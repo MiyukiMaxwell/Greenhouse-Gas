{
 "cells": [
  {
   "cell_type": "code",
   "execution_count": 1,
   "metadata": {},
   "outputs": [],
   "source": [
    "import pandas as pd"
   ]
  },
  {
   "cell_type": "code",
   "execution_count": 2,
   "metadata": {},
   "outputs": [],
   "source": [
    "greenhouse_df = pd.read_csv(\"/Users/miyuki/Documents/Greenhouse-gas/greenhouse-gas-emissions-by-region-industry-and-household-year-ended-2022.csv\")"
   ]
  },
  {
   "cell_type": "code",
   "execution_count": 3,
   "metadata": {},
   "outputs": [
    {
     "data": {
      "text/html": [
       "<div>\n",
       "<style scoped>\n",
       "    .dataframe tbody tr th:only-of-type {\n",
       "        vertical-align: middle;\n",
       "    }\n",
       "\n",
       "    .dataframe tbody tr th {\n",
       "        vertical-align: top;\n",
       "    }\n",
       "\n",
       "    .dataframe thead th {\n",
       "        text-align: right;\n",
       "    }\n",
       "</style>\n",
       "<table border=\"1\" class=\"dataframe\">\n",
       "  <thead>\n",
       "    <tr style=\"text-align: right;\">\n",
       "      <th></th>\n",
       "      <th>region</th>\n",
       "      <th>anzsic_descriptor</th>\n",
       "      <th>sub_industry</th>\n",
       "      <th>household_category</th>\n",
       "      <th>gas</th>\n",
       "      <th>units</th>\n",
       "      <th>magnitude</th>\n",
       "      <th>year</th>\n",
       "      <th>data_val</th>\n",
       "    </tr>\n",
       "  </thead>\n",
       "  <tbody>\n",
       "    <tr>\n",
       "      <th>0</th>\n",
       "      <td>Auckland</td>\n",
       "      <td>Forestry and logging, fishing, and agricultura...</td>\n",
       "      <td>Total</td>\n",
       "      <td>Total</td>\n",
       "      <td>Carbon dioxide equivalents</td>\n",
       "      <td>Kilotonnes</td>\n",
       "      <td>Carbon dioxide equivalents</td>\n",
       "      <td>2007</td>\n",
       "      <td>45.92</td>\n",
       "    </tr>\n",
       "    <tr>\n",
       "      <th>1</th>\n",
       "      <td>Auckland</td>\n",
       "      <td>Forestry and logging, fishing, and agricultura...</td>\n",
       "      <td>Total</td>\n",
       "      <td>Total</td>\n",
       "      <td>Carbon dioxide equivalents</td>\n",
       "      <td>Kilotonnes</td>\n",
       "      <td>Carbon dioxide equivalents</td>\n",
       "      <td>2008</td>\n",
       "      <td>45.88</td>\n",
       "    </tr>\n",
       "    <tr>\n",
       "      <th>2</th>\n",
       "      <td>Auckland</td>\n",
       "      <td>Forestry and logging, fishing, and agricultura...</td>\n",
       "      <td>Total</td>\n",
       "      <td>Total</td>\n",
       "      <td>Carbon dioxide equivalents</td>\n",
       "      <td>Kilotonnes</td>\n",
       "      <td>Carbon dioxide equivalents</td>\n",
       "      <td>2009</td>\n",
       "      <td>43.71</td>\n",
       "    </tr>\n",
       "    <tr>\n",
       "      <th>3</th>\n",
       "      <td>Auckland</td>\n",
       "      <td>Forestry and logging, fishing, and agricultura...</td>\n",
       "      <td>Total</td>\n",
       "      <td>Total</td>\n",
       "      <td>Carbon dioxide equivalents</td>\n",
       "      <td>Kilotonnes</td>\n",
       "      <td>Carbon dioxide equivalents</td>\n",
       "      <td>2010</td>\n",
       "      <td>39.61</td>\n",
       "    </tr>\n",
       "    <tr>\n",
       "      <th>4</th>\n",
       "      <td>Auckland</td>\n",
       "      <td>Forestry and logging, fishing, and agricultura...</td>\n",
       "      <td>Total</td>\n",
       "      <td>Total</td>\n",
       "      <td>Carbon dioxide equivalents</td>\n",
       "      <td>Kilotonnes</td>\n",
       "      <td>Carbon dioxide equivalents</td>\n",
       "      <td>2011</td>\n",
       "      <td>40.99</td>\n",
       "    </tr>\n",
       "  </tbody>\n",
       "</table>\n",
       "</div>"
      ],
      "text/plain": [
       "     region                                  anzsic_descriptor sub_industry  \\\n",
       "0  Auckland  Forestry and logging, fishing, and agricultura...        Total   \n",
       "1  Auckland  Forestry and logging, fishing, and agricultura...        Total   \n",
       "2  Auckland  Forestry and logging, fishing, and agricultura...        Total   \n",
       "3  Auckland  Forestry and logging, fishing, and agricultura...        Total   \n",
       "4  Auckland  Forestry and logging, fishing, and agricultura...        Total   \n",
       "\n",
       "  household_category                         gas       units  \\\n",
       "0              Total  Carbon dioxide equivalents  Kilotonnes   \n",
       "1              Total  Carbon dioxide equivalents  Kilotonnes   \n",
       "2              Total  Carbon dioxide equivalents  Kilotonnes   \n",
       "3              Total  Carbon dioxide equivalents  Kilotonnes   \n",
       "4              Total  Carbon dioxide equivalents  Kilotonnes   \n",
       "\n",
       "                    magnitude  year  data_val  \n",
       "0  Carbon dioxide equivalents  2007     45.92  \n",
       "1  Carbon dioxide equivalents  2008     45.88  \n",
       "2  Carbon dioxide equivalents  2009     43.71  \n",
       "3  Carbon dioxide equivalents  2010     39.61  \n",
       "4  Carbon dioxide equivalents  2011     40.99  "
      ]
     },
     "execution_count": 3,
     "metadata": {},
     "output_type": "execute_result"
    }
   ],
   "source": [
    "greenhouse_df.head()"
   ]
  },
  {
   "cell_type": "code",
   "execution_count": 4,
   "metadata": {},
   "outputs": [
    {
     "name": "stdout",
     "output_type": "stream",
     "text": [
      "<class 'pandas.core.frame.DataFrame'>\n",
      "RangeIndex: 7369 entries, 0 to 7368\n",
      "Data columns (total 9 columns):\n",
      " #   Column              Non-Null Count  Dtype  \n",
      "---  ------              --------------  -----  \n",
      " 0   region              7369 non-null   object \n",
      " 1   anzsic_descriptor   7369 non-null   object \n",
      " 2   sub_industry        7369 non-null   object \n",
      " 3   household_category  7369 non-null   object \n",
      " 4   gas                 7369 non-null   object \n",
      " 5   units               7369 non-null   object \n",
      " 6   magnitude           7369 non-null   object \n",
      " 7   year                7369 non-null   int64  \n",
      " 8   data_val            7369 non-null   float64\n",
      "dtypes: float64(1), int64(1), object(7)\n",
      "memory usage: 518.3+ KB\n"
     ]
    }
   ],
   "source": [
    "greenhouse_df.info()"
   ]
  },
  {
   "cell_type": "code",
   "execution_count": 5,
   "metadata": {},
   "outputs": [
    {
     "data": {
      "text/html": [
       "<div>\n",
       "<style scoped>\n",
       "    .dataframe tbody tr th:only-of-type {\n",
       "        vertical-align: middle;\n",
       "    }\n",
       "\n",
       "    .dataframe tbody tr th {\n",
       "        vertical-align: top;\n",
       "    }\n",
       "\n",
       "    .dataframe thead th {\n",
       "        text-align: right;\n",
       "    }\n",
       "</style>\n",
       "<table border=\"1\" class=\"dataframe\">\n",
       "  <thead>\n",
       "    <tr style=\"text-align: right;\">\n",
       "      <th></th>\n",
       "      <th>year</th>\n",
       "      <th>data_val</th>\n",
       "    </tr>\n",
       "  </thead>\n",
       "  <tbody>\n",
       "    <tr>\n",
       "      <th>count</th>\n",
       "      <td>7369.00000</td>\n",
       "      <td>7369.000000</td>\n",
       "    </tr>\n",
       "    <tr>\n",
       "      <th>mean</th>\n",
       "      <td>2014.36260</td>\n",
       "      <td>950.204184</td>\n",
       "    </tr>\n",
       "    <tr>\n",
       "      <th>std</th>\n",
       "      <td>4.53792</td>\n",
       "      <td>1958.706660</td>\n",
       "    </tr>\n",
       "    <tr>\n",
       "      <th>min</th>\n",
       "      <td>2007.00000</td>\n",
       "      <td>0.290000</td>\n",
       "    </tr>\n",
       "    <tr>\n",
       "      <th>25%</th>\n",
       "      <td>2010.00000</td>\n",
       "      <td>35.990000</td>\n",
       "    </tr>\n",
       "    <tr>\n",
       "      <th>50%</th>\n",
       "      <td>2014.00000</td>\n",
       "      <td>143.210000</td>\n",
       "    </tr>\n",
       "    <tr>\n",
       "      <th>75%</th>\n",
       "      <td>2018.00000</td>\n",
       "      <td>848.500000</td>\n",
       "    </tr>\n",
       "    <tr>\n",
       "      <th>max</th>\n",
       "      <td>2022.00000</td>\n",
       "      <td>16707.340000</td>\n",
       "    </tr>\n",
       "  </tbody>\n",
       "</table>\n",
       "</div>"
      ],
      "text/plain": [
       "             year      data_val\n",
       "count  7369.00000   7369.000000\n",
       "mean   2014.36260    950.204184\n",
       "std       4.53792   1958.706660\n",
       "min    2007.00000      0.290000\n",
       "25%    2010.00000     35.990000\n",
       "50%    2014.00000    143.210000\n",
       "75%    2018.00000    848.500000\n",
       "max    2022.00000  16707.340000"
      ]
     },
     "execution_count": 5,
     "metadata": {},
     "output_type": "execute_result"
    }
   ],
   "source": [
    "greenhouse_df.describe()"
   ]
  },
  {
   "cell_type": "code",
   "execution_count": 6,
   "metadata": {},
   "outputs": [
    {
     "data": {
      "text/plain": [
       "0"
      ]
     },
     "execution_count": 6,
     "metadata": {},
     "output_type": "execute_result"
    }
   ],
   "source": [
    "greenhouse_df.duplicated().sum()"
   ]
  },
  {
   "cell_type": "code",
   "execution_count": 7,
   "metadata": {},
   "outputs": [
    {
     "data": {
      "text/plain": [
       "region                  17\n",
       "anzsic_descriptor       19\n",
       "sub_industry             5\n",
       "household_category       4\n",
       "gas                      5\n",
       "units                    1\n",
       "magnitude                1\n",
       "year                    16\n",
       "data_val              6741\n",
       "dtype: int64"
      ]
     },
     "execution_count": 7,
     "metadata": {},
     "output_type": "execute_result"
    }
   ],
   "source": [
    "greenhouse_df.nunique()"
   ]
  },
  {
   "cell_type": "code",
   "execution_count": null,
   "metadata": {},
   "outputs": [],
   "source": []
  }
 ],
 "metadata": {
  "kernelspec": {
   "display_name": "Python 3 (ipykernel)",
   "language": "python",
   "name": "python3"
  },
  "language_info": {
   "codemirror_mode": {
    "name": "ipython",
    "version": 3
   },
   "file_extension": ".py",
   "mimetype": "text/x-python",
   "name": "python",
   "nbconvert_exporter": "python",
   "pygments_lexer": "ipython3",
   "version": "3.11.5"
  }
 },
 "nbformat": 4,
 "nbformat_minor": 2
}
